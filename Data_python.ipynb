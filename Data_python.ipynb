{
 "cells": [
  {
   "cell_type": "code",
   "execution_count": 5,
   "metadata": {},
   "outputs": [],
   "source": [
    "import json\n",
    "\n",
    "with open('data.json', 'r') as file:\n",
    "    data = json.loads(file.read())"
   ]
  },
  {
   "cell_type": "code",
   "execution_count": 7,
   "metadata": {},
   "outputs": [
    {
     "data": {
      "text/plain": [
       "{'doi': '10.1234/esrf.2025.001',\n",
       " 'facility': 'ESRF',\n",
       " 'PI': 'Dr. Dmitrii Ivanov'}"
      ]
     },
     "execution_count": 7,
     "metadata": {},
     "output_type": "execute_result"
    }
   ],
   "source": [
    "metadata = data.get(\"metadata\", {})\n",
    "metadata"
   ]
  },
  {
   "cell_type": "code",
   "execution_count": 8,
   "metadata": {},
   "outputs": [],
   "source": [
    "experiment_info = {\n",
    "    \"Experiment ID\": data[\"experiment_id\"],\n",
    "    \"Beamline\": data[\"beamline\"],\n",
    "    \"Date\": data[\"date\"],\n",
    "    \"Sample Name\": data[\"sample\"][\"name\"],\n",
    "    \"Sample Type\": data[\"sample\"][\"type\"],\n",
    "    \"DOI\": metadata.get(\"doi\", \"N/A\"),\n",
    "    \"Principal Investigator\": metadata.get(\"PI\", \"N/A\")\n",
    "}"
   ]
  },
  {
   "cell_type": "code",
   "execution_count": 10,
   "metadata": {},
   "outputs": [
    {
     "name": "stdout",
     "output_type": "stream",
     "text": [
      "Experiment ID: ESRF-2025-001\n",
      "Beamline: ID23\n",
      "Date: 2025-03-24\n",
      "Sample Name: Protein Crystal\n",
      "Sample Type: Biomolecular\n",
      "DOI: 10.1234/esrf.2025.001\n",
      "Principal Investigator: Dr. Dmitrii Ivanov\n"
     ]
    }
   ],
   "source": [
    "for key, value in experiment_info.items():\n",
    "    print(f\"{key}: {value}\")"
   ]
  },
  {
   "cell_type": "code",
   "execution_count": 14,
   "metadata": {},
   "outputs": [],
   "source": [
    "with open('data_2.json', 'r') as file:\n",
    "    data2 = json.loads(file.read())"
   ]
  },
  {
   "cell_type": "code",
   "execution_count": 17,
   "metadata": {},
   "outputs": [
    {
     "name": "stdout",
     "output_type": "stream",
     "text": [
      "{\n",
      "    \"experiment_id\": \"ESRF-2025-001\",\n",
      "    \"beamline\": \"ID23\",\n",
      "    \"date\": \"2025-03-24\",\n",
      "    \"sample\": {\n",
      "        \"name\": \"Protein Crystal\",\n",
      "        \"type\": \"Biomolecular\",\n",
      "        \"temperature\": -173,\n",
      "        \"xray_wavelength\": 0.98\n",
      "    },\n",
      "    \"metadata\": {\n",
      "        \"doi\": \"10.1234/esrf.2025.001\",\n",
      "        \"facility\": \"ESRF\",\n",
      "        \"PI\": \"Dr. Dmitrii Ivanov\"\n",
      "    },\n",
      "    \"data\": [\n",
      "        {\n",
      "            \"scan_id\": 1,\n",
      "            \"intensity\": 12000,\n",
      "            \"wavelength\": 0.98\n",
      "        },\n",
      "        {\n",
      "            \"scan_id\": 2,\n",
      "            \"intensity\": 13500,\n",
      "            \"wavelength\": 1.0\n",
      "        }\n",
      "    ]\n",
      "}\n"
     ]
    }
   ],
   "source": [
    "print(json.dumps(data, indent=4))"
   ]
  },
  {
   "cell_type": "code",
   "execution_count": 18,
   "metadata": {},
   "outputs": [
    {
     "name": "stdout",
     "output_type": "stream",
     "text": [
      "Experiment ID: ESRF-2025-001\n",
      "Beamline: ID23\n",
      "Sample Name: Protein Crystal\n"
     ]
    }
   ],
   "source": [
    "experiment_id = data[\"experiment_id\"]\n",
    "beamline = data[\"beamline\"]\n",
    "sample_name = data[\"sample\"][\"name\"]\n",
    "\n",
    "print(f\"Experiment ID: {experiment_id}\")\n",
    "print(f\"Beamline: {beamline}\")\n",
    "print(f\"Sample Name: {sample_name}\")"
   ]
  },
  {
   "cell_type": "code",
   "execution_count": 19,
   "metadata": {},
   "outputs": [
    {
     "name": "stdout",
     "output_type": "stream",
     "text": [
      "experiment_id: ESRF-2025-001\n",
      "beamline: ID11\n",
      "researchers: [{'name': 'Dr. John Smith', 'institution': 'ESRF', 'role': 'Principal Investigator'}, {'name': 'Dr. Alice Doe', 'institution': 'CNRS', 'role': 'Collaborator'}]\n",
      "sample: {'name': 'Perovskite Thin Film', 'composition': 'CsPbBr3', 'preparation_date': '2025-03-15'}\n",
      "measurements: [{'timestamp': '2025-03-16T14:05:00', 'temperature': 300, 'intensity': 1200}, {'timestamp': '2025-03-16T14:10:00', 'temperature': 310, 'intensity': 1250}, {'timestamp': '2025-03-16T14:15:00', 'temperature': 320, 'intensity': 1300}]\n"
     ]
    }
   ],
   "source": [
    "for key, value in data2.items():\n",
    "    print(f\"{key}: {value}\")"
   ]
  },
  {
   "cell_type": "code",
   "execution_count": 21,
   "metadata": {},
   "outputs": [
    {
     "name": "stdout",
     "output_type": "stream",
     "text": [
      "Dr. John Smith (ESRF) - Principal Investigator\n",
      "Dr. Alice Doe (CNRS) - Collaborator\n"
     ]
    }
   ],
   "source": [
    "for researcher in data2[\"researchers\"]:\n",
    "    print(f\"{researcher['name']} ({researcher['institution']}) - {researcher['role']}\")"
   ]
  },
  {
   "cell_type": "code",
   "execution_count": 23,
   "metadata": {},
   "outputs": [],
   "source": [
    "import pandas as pd\n",
    "\n",
    "df = pd.DataFrame(data2['measurements'])"
   ]
  },
  {
   "cell_type": "code",
   "execution_count": 25,
   "metadata": {},
   "outputs": [],
   "source": [
    "df['timestamp'] = pd.to_datetime(df['timestamp'])"
   ]
  },
  {
   "cell_type": "code",
   "execution_count": 26,
   "metadata": {},
   "outputs": [
    {
     "data": {
      "text/html": [
       "<div>\n",
       "<style scoped>\n",
       "    .dataframe tbody tr th:only-of-type {\n",
       "        vertical-align: middle;\n",
       "    }\n",
       "\n",
       "    .dataframe tbody tr th {\n",
       "        vertical-align: top;\n",
       "    }\n",
       "\n",
       "    .dataframe thead th {\n",
       "        text-align: right;\n",
       "    }\n",
       "</style>\n",
       "<table border=\"1\" class=\"dataframe\">\n",
       "  <thead>\n",
       "    <tr style=\"text-align: right;\">\n",
       "      <th></th>\n",
       "      <th>timestamp</th>\n",
       "      <th>temperature</th>\n",
       "      <th>intensity</th>\n",
       "    </tr>\n",
       "  </thead>\n",
       "  <tbody>\n",
       "    <tr>\n",
       "      <th>0</th>\n",
       "      <td>2025-03-16 14:05:00</td>\n",
       "      <td>300</td>\n",
       "      <td>1200</td>\n",
       "    </tr>\n",
       "    <tr>\n",
       "      <th>1</th>\n",
       "      <td>2025-03-16 14:10:00</td>\n",
       "      <td>310</td>\n",
       "      <td>1250</td>\n",
       "    </tr>\n",
       "    <tr>\n",
       "      <th>2</th>\n",
       "      <td>2025-03-16 14:15:00</td>\n",
       "      <td>320</td>\n",
       "      <td>1300</td>\n",
       "    </tr>\n",
       "  </tbody>\n",
       "</table>\n",
       "</div>"
      ],
      "text/plain": [
       "            timestamp  temperature  intensity\n",
       "0 2025-03-16 14:05:00          300       1200\n",
       "1 2025-03-16 14:10:00          310       1250\n",
       "2 2025-03-16 14:15:00          320       1300"
      ]
     },
     "execution_count": 26,
     "metadata": {},
     "output_type": "execute_result"
    }
   ],
   "source": [
    "df"
   ]
  },
  {
   "cell_type": "code",
   "execution_count": 28,
   "metadata": {},
   "outputs": [],
   "source": [
    "new_measurement = {\n",
    "    \"timestamp\": \"2020-01-01T00:00:00\",\n",
    "    \"temperature\": 25,\n",
    "    \"pressure\": 1000\n",
    "}\n",
    "data2['measurements'].append(new_measurement)"
   ]
  },
  {
   "cell_type": "code",
   "execution_count": 29,
   "metadata": {},
   "outputs": [
    {
     "data": {
      "text/plain": [
       "[{'timestamp': '2025-03-16T14:05:00', 'temperature': 300, 'intensity': 1200},\n",
       " {'timestamp': '2025-03-16T14:10:00', 'temperature': 310, 'intensity': 1250},\n",
       " {'timestamp': '2025-03-16T14:15:00', 'temperature': 320, 'intensity': 1300},\n",
       " {'timestamp': '2020-01-01T00:00:00', 'temperature': 25, 'pressure': 1000}]"
      ]
     },
     "execution_count": 29,
     "metadata": {},
     "output_type": "execute_result"
    }
   ],
   "source": [
    "data2['measurements']"
   ]
  },
  {
   "cell_type": "code",
   "execution_count": 30,
   "metadata": {},
   "outputs": [],
   "source": [
    "df = pd.DataFrame(data2['measurements'])"
   ]
  },
  {
   "cell_type": "code",
   "execution_count": 31,
   "metadata": {},
   "outputs": [
    {
     "data": {
      "text/html": [
       "<div>\n",
       "<style scoped>\n",
       "    .dataframe tbody tr th:only-of-type {\n",
       "        vertical-align: middle;\n",
       "    }\n",
       "\n",
       "    .dataframe tbody tr th {\n",
       "        vertical-align: top;\n",
       "    }\n",
       "\n",
       "    .dataframe thead th {\n",
       "        text-align: right;\n",
       "    }\n",
       "</style>\n",
       "<table border=\"1\" class=\"dataframe\">\n",
       "  <thead>\n",
       "    <tr style=\"text-align: right;\">\n",
       "      <th></th>\n",
       "      <th>timestamp</th>\n",
       "      <th>temperature</th>\n",
       "      <th>intensity</th>\n",
       "      <th>pressure</th>\n",
       "    </tr>\n",
       "  </thead>\n",
       "  <tbody>\n",
       "    <tr>\n",
       "      <th>0</th>\n",
       "      <td>2025-03-16T14:05:00</td>\n",
       "      <td>300</td>\n",
       "      <td>1200.0</td>\n",
       "      <td>NaN</td>\n",
       "    </tr>\n",
       "    <tr>\n",
       "      <th>1</th>\n",
       "      <td>2025-03-16T14:10:00</td>\n",
       "      <td>310</td>\n",
       "      <td>1250.0</td>\n",
       "      <td>NaN</td>\n",
       "    </tr>\n",
       "    <tr>\n",
       "      <th>2</th>\n",
       "      <td>2025-03-16T14:15:00</td>\n",
       "      <td>320</td>\n",
       "      <td>1300.0</td>\n",
       "      <td>NaN</td>\n",
       "    </tr>\n",
       "    <tr>\n",
       "      <th>3</th>\n",
       "      <td>2020-01-01T00:00:00</td>\n",
       "      <td>25</td>\n",
       "      <td>NaN</td>\n",
       "      <td>1000.0</td>\n",
       "    </tr>\n",
       "  </tbody>\n",
       "</table>\n",
       "</div>"
      ],
      "text/plain": [
       "             timestamp  temperature  intensity  pressure\n",
       "0  2025-03-16T14:05:00          300     1200.0       NaN\n",
       "1  2025-03-16T14:10:00          310     1250.0       NaN\n",
       "2  2025-03-16T14:15:00          320     1300.0       NaN\n",
       "3  2020-01-01T00:00:00           25        NaN    1000.0"
      ]
     },
     "execution_count": 31,
     "metadata": {},
     "output_type": "execute_result"
    }
   ],
   "source": [
    "df"
   ]
  },
  {
   "cell_type": "code",
   "execution_count": 32,
   "metadata": {},
   "outputs": [],
   "source": [
    "with open('updated_data.json', 'w') as file:\n",
    "    json.dump(data2, file, indent=4)"
   ]
  },
  {
   "cell_type": "code",
   "execution_count": 34,
   "metadata": {},
   "outputs": [],
   "source": [
    "import h5py\n",
    "import numpy as np"
   ]
  },
  {
   "cell_type": "code",
   "execution_count": 67,
   "metadata": {},
   "outputs": [],
   "source": [
    "with h5py.File('data.h5', 'w') as hdf:\n",
    "    # Create a group for experiment metadata\n",
    "    meta_group = hdf.create_group(\"experiment_metadata\")\n",
    "    meta_group.attrs[\"experiment_id\"] = \"ESRF-2025-001\"\n",
    "    meta_group.attrs[\"beamline\"] = \"ID11\"\n",
    "\n",
    "    # Create a dataset for sample details\n",
    "    sample_group = hdf.create_group(\"sample\")\n",
    "    sample_group.attrs[\"name\"] = \"Perovskite Thin Film\"\n",
    "    sample_group.attrs[\"composition\"] = \"CsPbBr3\"\n",
    "    sample_group.attrs[\"preparation_date\"] = \"2025-03-15\"\n",
    "\n",
    "    # Create a dataset for X-ray measurements\n",
    "    measurements_group = hdf.create_group(\"measurements\")\n",
    "    timestamps = np.array([\"2025-03-16T14:05:00\", \"2025-03-16T14:10:00\", \"2025-03-16T14:15:00\"], dtype=\"S\")\n",
    "    temperatures = np.array([300, 310, 320], dtype=np.float32)\n",
    "    intensities = np.array([1200, 1250, 1300], dtype=np.float32)\n",
    "\n",
    "    measurements_group.create_dataset(\"timestamps\", data=timestamps,maxshape=(None,), chunks=True)\n",
    "    measurements_group.create_dataset(\"temperatures\", data=temperatures,maxshape=(None,), chunks=True)\n",
    "    measurements_group.create_dataset(\"intensities\", data=intensities,maxshape=(None,), chunks=True)"
   ]
  },
  {
   "cell_type": "code",
   "execution_count": 68,
   "metadata": {},
   "outputs": [
    {
     "name": "stdout",
     "output_type": "stream",
     "text": [
      "Keys: ['experiment_metadata', 'measurements', 'sample']\n"
     ]
    }
   ],
   "source": [
    "with h5py.File('data.h5', 'r') as hdf:\n",
    "    print(\"Keys:\", list(hdf.keys()))"
   ]
  },
  {
   "cell_type": "code",
   "execution_count": 69,
   "metadata": {},
   "outputs": [
    {
     "name": "stdout",
     "output_type": "stream",
     "text": [
      "Experiment ID: ESRF-2025-001\n",
      "Beamline: ID11\n",
      "Sample Name: Perovskite Thin Film\n",
      "Composition: CsPbBr3\n",
      "Datasets in measurements: ['intensities', 'temperatures', 'timestamps']\n"
     ]
    }
   ],
   "source": [
    "with h5py.File('data.h5', 'r') as hdf:\n",
    "    meta_group = hdf['experiment_metadata']\n",
    "    print(\"Experiment ID:\", meta_group.attrs['experiment_id'])\n",
    "    print(\"Beamline:\", meta_group.attrs['beamline'])\n",
    "\n",
    "    sample_group = hdf['sample']\n",
    "    print(\"Sample Name:\", sample_group.attrs['name'])\n",
    "    print(\"Composition:\", sample_group.attrs['composition'])\n",
    "\n",
    "    measurements_group = hdf['measurements']\n",
    "    print('Datasets in measurements:', list(measurements_group.keys()))"
   ]
  },
  {
   "cell_type": "code",
   "execution_count": 70,
   "metadata": {},
   "outputs": [],
   "source": [
    "with h5py.File('data.h5', 'r') as hdf:\n",
    "    measurements_group = hdf['measurements']\n",
    "    timestamps = [t.decode('utf-8') for t in measurements_group['timestamps'][:]]\n",
    "    temperatures = measurements_group['temperatures'][:]\n",
    "    intensities = measurements_group['intensities'][:]\n",
    "\n",
    "    df = pd.DataFrame({\n",
    "        'Timestamp': timestamps,\n",
    "        'Temerature': temperatures,\n",
    "        'Intensity': intensities\n",
    "    })"
   ]
  },
  {
   "cell_type": "code",
   "execution_count": 71,
   "metadata": {},
   "outputs": [
    {
     "data": {
      "text/html": [
       "<div>\n",
       "<style scoped>\n",
       "    .dataframe tbody tr th:only-of-type {\n",
       "        vertical-align: middle;\n",
       "    }\n",
       "\n",
       "    .dataframe tbody tr th {\n",
       "        vertical-align: top;\n",
       "    }\n",
       "\n",
       "    .dataframe thead th {\n",
       "        text-align: right;\n",
       "    }\n",
       "</style>\n",
       "<table border=\"1\" class=\"dataframe\">\n",
       "  <thead>\n",
       "    <tr style=\"text-align: right;\">\n",
       "      <th></th>\n",
       "      <th>Timestamp</th>\n",
       "      <th>Temerature</th>\n",
       "      <th>Intensity</th>\n",
       "    </tr>\n",
       "  </thead>\n",
       "  <tbody>\n",
       "    <tr>\n",
       "      <th>0</th>\n",
       "      <td>2025-03-16T14:05:00</td>\n",
       "      <td>300.0</td>\n",
       "      <td>1200.0</td>\n",
       "    </tr>\n",
       "    <tr>\n",
       "      <th>1</th>\n",
       "      <td>2025-03-16T14:10:00</td>\n",
       "      <td>310.0</td>\n",
       "      <td>1250.0</td>\n",
       "    </tr>\n",
       "    <tr>\n",
       "      <th>2</th>\n",
       "      <td>2025-03-16T14:15:00</td>\n",
       "      <td>320.0</td>\n",
       "      <td>1300.0</td>\n",
       "    </tr>\n",
       "  </tbody>\n",
       "</table>\n",
       "</div>"
      ],
      "text/plain": [
       "             Timestamp  Temerature  Intensity\n",
       "0  2025-03-16T14:05:00       300.0     1200.0\n",
       "1  2025-03-16T14:10:00       310.0     1250.0\n",
       "2  2025-03-16T14:15:00       320.0     1300.0"
      ]
     },
     "execution_count": 71,
     "metadata": {},
     "output_type": "execute_result"
    }
   ],
   "source": [
    "df"
   ]
  },
  {
   "cell_type": "code",
   "execution_count": 72,
   "metadata": {},
   "outputs": [],
   "source": [
    "new_timestamp = \"2025-03-16T14:20:00\"\n",
    "new_temperature = 330\n",
    "new_intensity = 1350"
   ]
  },
  {
   "cell_type": "code",
   "execution_count": 73,
   "metadata": {},
   "outputs": [],
   "source": [
    "with h5py.File('data.h5', 'a') as hdf:\n",
    "    measurements_group = hdf['measurements']\n",
    "    measurements_group['timestamps'].resize(measurements_group['timestamps'].shape[0] + 1, axis=0)\n",
    "    measurements_group[\"temperatures\"].resize(measurements_group[\"temperatures\"].shape[0] + 1, axis=0)\n",
    "    measurements_group[\"intensities\"].resize(measurements_group[\"intensities\"].shape[0] + 1, axis=0)\n",
    "\n",
    "    measurements_group[\"timestamps\"][-1] = new_timestamp\n",
    "    measurements_group[\"temperatures\"][-1] = new_temperature\n",
    "    measurements_group[\"intensities\"][-1] = new_intensity"
   ]
  },
  {
   "cell_type": "code",
   "execution_count": 74,
   "metadata": {},
   "outputs": [],
   "source": [
    "with h5py.File('data.h5', 'r') as hdf:\n",
    "    measurements_group = hdf['measurements']\n",
    "    timestamps = [t.decode('utf-8') for t in measurements_group['timestamps'][:]]\n",
    "    temperatures = measurements_group['temperatures'][:]\n",
    "    intensities = measurements_group['intensities'][:]\n",
    "\n",
    "    df = pd.DataFrame({\n",
    "        'Timestamp': timestamps,\n",
    "        'Temerature': temperatures,\n",
    "        'Intensity': intensities\n",
    "    })"
   ]
  },
  {
   "cell_type": "code",
   "execution_count": 75,
   "metadata": {},
   "outputs": [
    {
     "data": {
      "text/html": [
       "<div>\n",
       "<style scoped>\n",
       "    .dataframe tbody tr th:only-of-type {\n",
       "        vertical-align: middle;\n",
       "    }\n",
       "\n",
       "    .dataframe tbody tr th {\n",
       "        vertical-align: top;\n",
       "    }\n",
       "\n",
       "    .dataframe thead th {\n",
       "        text-align: right;\n",
       "    }\n",
       "</style>\n",
       "<table border=\"1\" class=\"dataframe\">\n",
       "  <thead>\n",
       "    <tr style=\"text-align: right;\">\n",
       "      <th></th>\n",
       "      <th>Timestamp</th>\n",
       "      <th>Temerature</th>\n",
       "      <th>Intensity</th>\n",
       "    </tr>\n",
       "  </thead>\n",
       "  <tbody>\n",
       "    <tr>\n",
       "      <th>0</th>\n",
       "      <td>2025-03-16T14:05:00</td>\n",
       "      <td>300.0</td>\n",
       "      <td>1200.0</td>\n",
       "    </tr>\n",
       "    <tr>\n",
       "      <th>1</th>\n",
       "      <td>2025-03-16T14:10:00</td>\n",
       "      <td>310.0</td>\n",
       "      <td>1250.0</td>\n",
       "    </tr>\n",
       "    <tr>\n",
       "      <th>2</th>\n",
       "      <td>2025-03-16T14:15:00</td>\n",
       "      <td>320.0</td>\n",
       "      <td>1300.0</td>\n",
       "    </tr>\n",
       "    <tr>\n",
       "      <th>3</th>\n",
       "      <td>2025-03-16T14:20:00</td>\n",
       "      <td>330.0</td>\n",
       "      <td>1350.0</td>\n",
       "    </tr>\n",
       "  </tbody>\n",
       "</table>\n",
       "</div>"
      ],
      "text/plain": [
       "             Timestamp  Temerature  Intensity\n",
       "0  2025-03-16T14:05:00       300.0     1200.0\n",
       "1  2025-03-16T14:10:00       310.0     1250.0\n",
       "2  2025-03-16T14:15:00       320.0     1300.0\n",
       "3  2025-03-16T14:20:00       330.0     1350.0"
      ]
     },
     "execution_count": 75,
     "metadata": {},
     "output_type": "execute_result"
    }
   ],
   "source": [
    "df"
   ]
  },
  {
   "cell_type": "code",
   "execution_count": 121,
   "metadata": {},
   "outputs": [],
   "source": [
    "timestamps = np.array([\"2025-03-16T14:05:00\", \"2025-03-16T14:10:00\", \"2025-03-16T14:15:00\"], dtype=\"S\")\n",
    "temperatures = np.array([295, 310, 320], dtype=np.float32)\n",
    "intensities = np.array([1200, 1250, 1350], dtype=np.float32)\n",
    "researchers = np.array([\"Alice Smith\", \"Bob Johnson\", \"Charlie Brown\"], dtype=\"S\")\n",
    "\n",
    "with h5py.File('beamline_experiment.h5', 'w') as hdf:\n",
    "    experiment_metadata = hdf.create_group('experiment_metadata')\n",
    "    experiment_metadata.attrs['experiment_id'] = 'ESRF-2025-03'\n",
    "    experiment_metadata.attrs['beamline'] = 'ID31'\n",
    "    experiment_metadata.create_dataset('researchers', data=researchers, maxshape=(None,), chunks=True)\n",
    "\n",
    "    sample = hdf.create_group('sample')\n",
    "    sample.attrs['name'] = 'perovskite thin film'\n",
    "    sample.attrs['composition'] = 'CsPbBr3'\n",
    "\n",
    "    measurements = hdf.create_group('measurements')\n",
    "    measurements.create_dataset('Timestamp', data=timestamps, maxshape=(None,), chunks=True)\n",
    "    measurements.create_dataset('Temperature (°C)', data=temperatures, maxshape=(None,), chunks=True)\n",
    "    measurements.create_dataset('Intensity (counts)', data=intensities, maxshape=(None,), chunks=True)"
   ]
  },
  {
   "cell_type": "code",
   "execution_count": 122,
   "metadata": {},
   "outputs": [],
   "source": [
    "with h5py.File('beamline_experiment.h5', 'r') as hdf:\n",
    "    measurements_group = hdf['measurements']\n",
    "    timestamps = [t.decode('utf-8') for t in measurements_group['Timestamp'][:]]\n",
    "    temperatures = measurements_group['Temperature (°C)'][:]\n",
    "    intensities = measurements_group['Intensity (counts)'][:]\n",
    "\n",
    "    df = pd.DataFrame({\n",
    "        'Timestamp': timestamps,\n",
    "        'Temperature (°C)': temperatures,\n",
    "        'Intensity (counts)': intensities\n",
    "    })"
   ]
  },
  {
   "cell_type": "code",
   "execution_count": 123,
   "metadata": {},
   "outputs": [
    {
     "data": {
      "text/html": [
       "<div>\n",
       "<style scoped>\n",
       "    .dataframe tbody tr th:only-of-type {\n",
       "        vertical-align: middle;\n",
       "    }\n",
       "\n",
       "    .dataframe tbody tr th {\n",
       "        vertical-align: top;\n",
       "    }\n",
       "\n",
       "    .dataframe thead th {\n",
       "        text-align: right;\n",
       "    }\n",
       "</style>\n",
       "<table border=\"1\" class=\"dataframe\">\n",
       "  <thead>\n",
       "    <tr style=\"text-align: right;\">\n",
       "      <th></th>\n",
       "      <th>Timestamp</th>\n",
       "      <th>Temperature (°C)</th>\n",
       "      <th>Intensity (counts)</th>\n",
       "    </tr>\n",
       "  </thead>\n",
       "  <tbody>\n",
       "    <tr>\n",
       "      <th>0</th>\n",
       "      <td>2025-03-16T14:05:00</td>\n",
       "      <td>295.0</td>\n",
       "      <td>1200.0</td>\n",
       "    </tr>\n",
       "    <tr>\n",
       "      <th>1</th>\n",
       "      <td>2025-03-16T14:10:00</td>\n",
       "      <td>310.0</td>\n",
       "      <td>1250.0</td>\n",
       "    </tr>\n",
       "    <tr>\n",
       "      <th>2</th>\n",
       "      <td>2025-03-16T14:15:00</td>\n",
       "      <td>320.0</td>\n",
       "      <td>1350.0</td>\n",
       "    </tr>\n",
       "  </tbody>\n",
       "</table>\n",
       "</div>"
      ],
      "text/plain": [
       "             Timestamp  Temperature (°C)  Intensity (counts)\n",
       "0  2025-03-16T14:05:00             295.0              1200.0\n",
       "1  2025-03-16T14:10:00             310.0              1250.0\n",
       "2  2025-03-16T14:15:00             320.0              1350.0"
      ]
     },
     "execution_count": 123,
     "metadata": {},
     "output_type": "execute_result"
    }
   ],
   "source": [
    "df"
   ]
  },
  {
   "cell_type": "code",
   "execution_count": 124,
   "metadata": {},
   "outputs": [],
   "source": [
    "df_to_add = pd.DataFrame({\n",
    "    'Timestamp': [\"2025-03-16T14:20:00\", \"2025-03-16T14:25:00\", \"2025-03-16T14:30:00\"],\n",
    "    'Temperature (°C)': [330, 340, 350],\n",
    "    'Intensity (counts)': [1400, 1450, 1500]\n",
    "})\n",
    "\n",
    "with h5py.File('beamline_experiment.h5', 'a') as hdf:\n",
    "    measurements_group = hdf['measurements']\n",
    "    timestamps = measurements_group['Timestamp'][:]\n",
    "    temperatures = measurements_group['Temperature (°C)'][:]\n",
    "    intensities = measurements_group['Intensity (counts)'][:]\n",
    "\n",
    "    new_timestamps = [ts.encode('utf-8') for ts in df_to_add['Timestamp'].values]\n",
    "    new_temperatures = df_to_add['Temperature (°C)'].values\n",
    "    new_intensities = df_to_add['Intensity (counts)'].values\n",
    "\n",
    "    old_size = measurements_group['Timestamp'].shape[0]\n",
    "    new_size = old_size + len(new_timestamps)\n",
    "\n",
    "    measurements_group['Timestamp'].resize(new_size, axis=0)\n",
    "    measurements_group['Temperature (°C)'].resize(new_size, axis=0)\n",
    "    measurements_group['Intensity (counts)'].resize(new_size, axis=0)\n",
    "\n",
    "    measurements_group['Timestamp'][old_size:new_size] = new_timestamps\n",
    "    measurements_group['Temperature (°C)'][old_size:new_size] = new_temperatures\n",
    "    measurements_group['Intensity (counts)'][old_size:new_size] = new_intensities"
   ]
  },
  {
   "cell_type": "code",
   "execution_count": 125,
   "metadata": {},
   "outputs": [
    {
     "name": "stdout",
     "output_type": "stream",
     "text": [
      "Experiment ID: ESRF-2025-03\n",
      "Beamline: ID31\n",
      "Researchers: ['Alice Smith', 'Bob Johnson', 'Charlie Brown']\n",
      "Lowest T: 295.0 and Highest T: 350.0\n",
      "For Intensity > 1300:\n",
      "              Timestamp  Temperature (°C)  Intensity (counts)\n",
      "2  2025-03-16T14:15:00             320.0              1350.0\n",
      "3  2025-03-16T14:20:00             330.0              1400.0\n",
      "4  2025-03-16T14:25:00             340.0              1450.0\n",
      "5  2025-03-16T14:30:00             350.0              1500.0\n"
     ]
    }
   ],
   "source": [
    "with h5py.File('beamline_experiment.h5', 'r') as hdf:\n",
    "    experiment_metadata = hdf['experiment_metadata']\n",
    "    experiment_id = experiment_metadata.attrs['experiment_id']\n",
    "    beamline = experiment_metadata.attrs['beamline']\n",
    "    researchers = [r.decode('utf-8') for r in experiment_metadata['researchers'][:]]\n",
    "\n",
    "    measurements = hdf['measurements']\n",
    "    timestamps = [t.decode('utf-8') for t in measurements['Timestamp'][:]]\n",
    "    temperatures = measurements['Temperature (°C)'][:]\n",
    "    intensities = measurements['Intensity (counts)'][:]\n",
    "\n",
    "    print(\"Experiment ID:\", experiment_id)\n",
    "    print(\"Beamline:\", beamline)\n",
    "    print(\"Researchers:\", researchers)\n",
    "\n",
    "    df = pd.DataFrame({\n",
    "        'Timestamp': timestamps,\n",
    "        'Temperature (°C)': temperatures,\n",
    "        'Intensity (counts)': intensities\n",
    "    })\n",
    "\n",
    "    print(f\"Lowest T: {df['Temperature (°C)'].min()} and Highest T: {df['Temperature (°C)'].max()}\")\n",
    "    print(f\"For Intensity > 1300:\\n {df[df['Intensity (counts)'] > 1300]}\")"
   ]
  },
  {
   "cell_type": "code",
   "execution_count": 126,
   "metadata": {},
   "outputs": [
    {
     "data": {
      "text/html": [
       "<div>\n",
       "<style scoped>\n",
       "    .dataframe tbody tr th:only-of-type {\n",
       "        vertical-align: middle;\n",
       "    }\n",
       "\n",
       "    .dataframe tbody tr th {\n",
       "        vertical-align: top;\n",
       "    }\n",
       "\n",
       "    .dataframe thead th {\n",
       "        text-align: right;\n",
       "    }\n",
       "</style>\n",
       "<table border=\"1\" class=\"dataframe\">\n",
       "  <thead>\n",
       "    <tr style=\"text-align: right;\">\n",
       "      <th></th>\n",
       "      <th>Timestamp</th>\n",
       "      <th>Temperature (°C)</th>\n",
       "      <th>Intensity (counts)</th>\n",
       "    </tr>\n",
       "  </thead>\n",
       "  <tbody>\n",
       "    <tr>\n",
       "      <th>0</th>\n",
       "      <td>2025-03-16T14:05:00</td>\n",
       "      <td>295.0</td>\n",
       "      <td>1200.0</td>\n",
       "    </tr>\n",
       "    <tr>\n",
       "      <th>1</th>\n",
       "      <td>2025-03-16T14:10:00</td>\n",
       "      <td>310.0</td>\n",
       "      <td>1250.0</td>\n",
       "    </tr>\n",
       "    <tr>\n",
       "      <th>2</th>\n",
       "      <td>2025-03-16T14:15:00</td>\n",
       "      <td>320.0</td>\n",
       "      <td>1350.0</td>\n",
       "    </tr>\n",
       "    <tr>\n",
       "      <th>3</th>\n",
       "      <td>2025-03-16T14:20:00</td>\n",
       "      <td>330.0</td>\n",
       "      <td>1400.0</td>\n",
       "    </tr>\n",
       "    <tr>\n",
       "      <th>4</th>\n",
       "      <td>2025-03-16T14:25:00</td>\n",
       "      <td>340.0</td>\n",
       "      <td>1450.0</td>\n",
       "    </tr>\n",
       "    <tr>\n",
       "      <th>5</th>\n",
       "      <td>2025-03-16T14:30:00</td>\n",
       "      <td>350.0</td>\n",
       "      <td>1500.0</td>\n",
       "    </tr>\n",
       "  </tbody>\n",
       "</table>\n",
       "</div>"
      ],
      "text/plain": [
       "             Timestamp  Temperature (°C)  Intensity (counts)\n",
       "0  2025-03-16T14:05:00             295.0              1200.0\n",
       "1  2025-03-16T14:10:00             310.0              1250.0\n",
       "2  2025-03-16T14:15:00             320.0              1350.0\n",
       "3  2025-03-16T14:20:00             330.0              1400.0\n",
       "4  2025-03-16T14:25:00             340.0              1450.0\n",
       "5  2025-03-16T14:30:00             350.0              1500.0"
      ]
     },
     "execution_count": 126,
     "metadata": {},
     "output_type": "execute_result"
    }
   ],
   "source": [
    "df"
   ]
  },
  {
   "cell_type": "code",
   "execution_count": null,
   "metadata": {},
   "outputs": [],
   "source": []
  }
 ],
 "metadata": {
  "kernelspec": {
   "display_name": "practice",
   "language": "python",
   "name": "python3"
  },
  "language_info": {
   "codemirror_mode": {
    "name": "ipython",
    "version": 3
   },
   "file_extension": ".py",
   "mimetype": "text/x-python",
   "name": "python",
   "nbconvert_exporter": "python",
   "pygments_lexer": "ipython3",
   "version": "3.10.16"
  }
 },
 "nbformat": 4,
 "nbformat_minor": 2
}
