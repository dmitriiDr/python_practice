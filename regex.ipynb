{
 "cells": [
  {
   "cell_type": "code",
   "execution_count": 1,
   "metadata": {},
   "outputs": [],
   "source": [
    "import re"
   ]
  },
  {
   "cell_type": "code",
   "execution_count": 18,
   "metadata": {},
   "outputs": [],
   "source": [
    "test = [\n",
    "    '1. Order ID: #A1234 | Date: 2024-03-15 | Customer: John Doe | Rating: 5/5',\n",
    "    '2. Order ID: #B5678 | Date: 2024-02-27 | Customer: Jane Smith | Rating: 4/5',\n",
    "    '3. Order ID: #C9101 | Date: 2024-01-12 | Customer: Alice Johnson | Rating: 3/5',\n",
    "    '4. Order ID: #D1121 | Date: 2024-03-02 | Customer: Bob Brown | Rating: 5/5'\n",
    "]"
   ]
  },
  {
   "cell_type": "code",
   "execution_count": 34,
   "metadata": {},
   "outputs": [],
   "source": [
    "pattern = r\"#\\w\\d+\""
   ]
  },
  {
   "cell_type": "code",
   "execution_count": 35,
   "metadata": {},
   "outputs": [],
   "source": [
    "ids = []\n",
    "for line in test:\n",
    "    ids.append(re.findall(pattern, line)[0])"
   ]
  },
  {
   "cell_type": "code",
   "execution_count": 36,
   "metadata": {},
   "outputs": [
    {
     "data": {
      "text/plain": [
       "['#A1234', '#B5678', '#C9101', '#D1121']"
      ]
     },
     "execution_count": 36,
     "metadata": {},
     "output_type": "execute_result"
    }
   ],
   "source": [
    "ids"
   ]
  },
  {
   "cell_type": "code",
   "execution_count": 37,
   "metadata": {},
   "outputs": [],
   "source": [
    "date_pattern = r\"\\d+-\\d+-\\d+\""
   ]
  },
  {
   "cell_type": "code",
   "execution_count": 39,
   "metadata": {},
   "outputs": [
    {
     "data": {
      "text/plain": [
       "['2024-03-15', '2024-02-27', '2024-01-12', '2024-03-02']"
      ]
     },
     "execution_count": 39,
     "metadata": {},
     "output_type": "execute_result"
    }
   ],
   "source": [
    "dates = []\n",
    "for line in test:\n",
    "    dates.append(re.findall(date_pattern, line)[0])\n",
    "\n",
    "dates"
   ]
  },
  {
   "cell_type": "code",
   "execution_count": 50,
   "metadata": {},
   "outputs": [
    {
     "data": {
      "text/plain": [
       "['John Doe ', 'Jane Smith ', 'Alice Johnson ', 'Bob Brown ']"
      ]
     },
     "execution_count": 50,
     "metadata": {},
     "output_type": "execute_result"
    }
   ],
   "source": [
    "customer_pattern = r\"Customer: ([A-Za-z ]+)\"\n",
    "customers = []\n",
    "for line in test:\n",
    "    match = re.findall(customer_pattern, line)\n",
    "    if match:\n",
    "        customers.append(match[0])\n",
    "customers"
   ]
  },
  {
   "cell_type": "code",
   "execution_count": 54,
   "metadata": {},
   "outputs": [
    {
     "data": {
      "text/plain": [
       "['5/5', '4/5', '3/5', '5/5']"
      ]
     },
     "execution_count": 54,
     "metadata": {},
     "output_type": "execute_result"
    }
   ],
   "source": [
    "rating_pattern = r\"\\d/5\"\n",
    "ratings = []\n",
    "for line in test:\n",
    "    ratings.append(re.findall(rating_pattern, line)[0])\n",
    "ratings"
   ]
  },
  {
   "cell_type": "code",
   "execution_count": 61,
   "metadata": {},
   "outputs": [
    {
     "name": "stdout",
     "output_type": "stream",
     "text": [
      "1. Order ID: #A1234 | Date: 2024-03-15 | Customer: John Doe\n",
      "4. Order ID: #D1121 | Date: 2024-03-02 | Customer: Bob Brown\n"
     ]
    }
   ],
   "source": [
    "best_rating_pattern = r\"(.*) [|] Rating: 5/5\"\n",
    "best = []\n",
    "for line in test:\n",
    "    match = re.findall(best_rating_pattern,line)\n",
    "    if match:\n",
    "        print(match[0])"
   ]
  },
  {
   "cell_type": "code",
   "execution_count": 65,
   "metadata": {},
   "outputs": [
    {
     "name": "stdout",
     "output_type": "stream",
     "text": [
      "John\n",
      "Jane\n",
      "Alice\n",
      "Bob\n"
     ]
    }
   ],
   "source": [
    "first_name_pattern = r\"Customer: ([A-Za-z]+)\"\n",
    "first_names = []\n",
    "for line in test:\n",
    "    match = re.findall(first_name_pattern, line)\n",
    "    if match:\n",
    "        print(match[0])"
   ]
  },
  {
   "cell_type": "code",
   "execution_count": 69,
   "metadata": {},
   "outputs": [
    {
     "name": "stdout",
     "output_type": "stream",
     "text": [
      "A1234\n",
      "B5678\n",
      "C9101\n",
      "D1121\n"
     ]
    }
   ],
   "source": [
    "just_number_pattern = r\"#(\\w\\d+)\"\n",
    "for line in test:\n",
    "    match = re.findall(just_number_pattern, line)\n",
    "    if match:\n",
    "        print(match[0])"
   ]
  },
  {
   "cell_type": "code",
   "execution_count": 71,
   "metadata": {},
   "outputs": [
    {
     "name": "stdout",
     "output_type": "stream",
     "text": [
      "5/5\n",
      "4/5\n",
      "5/5\n"
     ]
    }
   ],
   "source": [
    "greater_than_3 = r\"Rating: ([4-5]/5)\"\n",
    "for line in test:\n",
    "    match = re.findall(greater_than_3, line)\n",
    "    if match:\n",
    "        print(match[0])"
   ]
  },
  {
   "cell_type": "code",
   "execution_count": 74,
   "metadata": {},
   "outputs": [
    {
     "name": "stdout",
     "output_type": "stream",
     "text": [
      "1. Order ID: #A1234 | Date: 2024-03-15 | Customer: John Doe | Rating: 5/5\n",
      "4. Order ID: #D1121 | Date: 2024-03-02 | Customer: Bob Brown | Rating: 5/5\n"
     ]
    }
   ],
   "source": [
    "all_5 = r\".*5/5\"\n",
    "for line in test:\n",
    "    match = re.findall(all_5, line)\n",
    "    if match:\n",
    "        print(match[0])"
   ]
  },
  {
   "cell_type": "code",
   "execution_count": 75,
   "metadata": {},
   "outputs": [
    {
     "name": "stdout",
     "output_type": "stream",
     "text": [
      "2024\n",
      "2024\n",
      "2024\n",
      "2024\n"
     ]
    }
   ],
   "source": [
    "year_pattern = r\"Date: (\\d+)-\"\n",
    "for line in test:\n",
    "    match = re.findall(year_pattern, line)\n",
    "    if match:\n",
    "        print(match[0])"
   ]
  },
  {
   "cell_type": "code",
   "execution_count": 76,
   "metadata": {},
   "outputs": [
    {
     "name": "stdout",
     "output_type": "stream",
     "text": [
      "1. Order ID: #A1234 | Date: 2024-03-15 | Customer: John Doe | Rating: 5/5\n",
      "4. Order ID: #D1121 | Date: 2024-03-02 | Customer: Bob Brown | Rating: 5/5\n"
     ]
    }
   ],
   "source": [
    "march_pattern = r\".*-03-.*\"\n",
    "for line in test:\n",
    "    match = re.findall(march_pattern, line)\n",
    "    if match:\n",
    "        print(match[0])"
   ]
  },
  {
   "cell_type": "code",
   "execution_count": 77,
   "metadata": {},
   "outputs": [],
   "source": [
    "text = \"\"\"\n",
    "1. Order ID: #A1234 | Date: 2024-03-15 | Customer: John Doe | Rating: 5/5.\n",
    "2. Order ID: #B5678 | Date: 2024-02-27 | Customer: Jane Smith | Rating: 4/5!\n",
    "3. Order ID: #C9101 | Date: 2024-01-12 | Customer: Alice Johnson | Rating: 3/5?\n",
    "4. Order ID: #D1121 | Date: 2024-03-02 | Customer: Bob Brown | Rating: 5/5...\n",
    "\"\"\""
   ]
  },
  {
   "cell_type": "code",
   "execution_count": 127,
   "metadata": {},
   "outputs": [
    {
     "name": "stdout",
     "output_type": "stream",
     "text": [
      "1. Order ID: #A1234 | Date: 2024-03-15 | Customer: John Doe | Rating: 5/5.\n",
      "2. Order ID: #B5678 | Date: 2024-02-27 | Customer: Jane Smith | Rating: 4/5!\n",
      "3. Order ID: #C9101 | Date: 2024-01-12 | Customer: Alice Johnson | Rating: 3/5?\n"
     ]
    }
   ],
   "source": [
    "point_line = r\".+[^.](?<!\\.\\.)[.!?]$\"\n",
    "for line in text.splitlines():\n",
    "    match = re.findall(point_line, line)\n",
    "    if match:\n",
    "        print(line)"
   ]
  },
  {
   "cell_type": "code",
   "execution_count": null,
   "metadata": {},
   "outputs": [],
   "source": []
  }
 ],
 "metadata": {
  "kernelspec": {
   "display_name": "practice",
   "language": "python",
   "name": "python3"
  },
  "language_info": {
   "codemirror_mode": {
    "name": "ipython",
    "version": 3
   },
   "file_extension": ".py",
   "mimetype": "text/x-python",
   "name": "python",
   "nbconvert_exporter": "python",
   "pygments_lexer": "ipython3",
   "version": "3.10.16"
  }
 },
 "nbformat": 4,
 "nbformat_minor": 2
}
