{
 "cells": [
  {
   "cell_type": "code",
   "execution_count": 1,
   "metadata": {},
   "outputs": [],
   "source": [
    "import h5py\n",
    "import numpy as np\n",
    "import pandas as pd"
   ]
  },
  {
   "cell_type": "markdown",
   "metadata": {},
   "source": [
    "## Extract & Filter Data\n",
    "## Convert HDF5 to CSV\n",
    "## Compute Statistical Insights\n",
    "## Detect Anomalies (Outliers)\n",
    "Write a function that loads an HDF5 file and filters measurements based on a temperature range\n",
    "Convert an HDF5 dataset to a CSV file"
   ]
  },
  {
   "cell_type": "code",
   "execution_count": 73,
   "metadata": {},
   "outputs": [],
   "source": [
    "def make_dataframe(file, save_as_csv=False, path_to_save=None):\n",
    "    with h5py.File(file, 'r') as hdf:\n",
    "        df = pd.DataFrame()\n",
    "        for key in hdf.keys():\n",
    "            if 'measurement' in key.lower():\n",
    "                measurements = hdf[key]\n",
    "                for key in measurements.keys():\n",
    "                    if 'timestamp' in key.lower():\n",
    "                        column = [t.decode('utf-8') for t in measurements[key][:]]\n",
    "                    else:\n",
    "                        column = measurements[key][:]\n",
    "                    df[key] = column\n",
    "    if save_as_csv:\n",
    "        df.to_csv(path_to_save, index=False)\n",
    "    return df\n",
    "    \n",
    "def filter_hdf5_data(file, temp_min, temp_max):\n",
    "    df = make_dataframe(file)\n",
    "    temp_cols = [col for col in df.columns if 'temperature' in col.lower()]\n",
    "    if not temp_cols:\n",
    "        return 'No temperature column found'\n",
    "    temp_col = temp_cols[0]\n",
    "    return df[df[temp_col].between(temp_min, temp_max)]\n",
    "    \n",
    "\n",
    "def stats_hdf5_data(file):\n",
    "    df = make_dataframe(file)\n",
    "    stats = df.describe()\n",
    "    return stats[1:]\n",
    "\n",
    "def get_outliers(file, threshold):\n",
    "    from scipy.stats import zscore\n",
    "    df = make_dataframe(file)\n",
    "    numerical_cols = df.select_dtypes(include=[np.number]).columns\n",
    "    df_z = zscore(df[numerical_cols])\n",
    "    return df[(df_z > threshold).any(axis=1)]\n",
    "    "
   ]
  },
  {
   "cell_type": "code",
   "execution_count": 74,
   "metadata": {},
   "outputs": [
    {
     "data": {
      "text/html": [
       "<div>\n",
       "<style scoped>\n",
       "    .dataframe tbody tr th:only-of-type {\n",
       "        vertical-align: middle;\n",
       "    }\n",
       "\n",
       "    .dataframe tbody tr th {\n",
       "        vertical-align: top;\n",
       "    }\n",
       "\n",
       "    .dataframe thead th {\n",
       "        text-align: right;\n",
       "    }\n",
       "</style>\n",
       "<table border=\"1\" class=\"dataframe\">\n",
       "  <thead>\n",
       "    <tr style=\"text-align: right;\">\n",
       "      <th></th>\n",
       "      <th>Intensity (counts)</th>\n",
       "      <th>Temperature (°C)</th>\n",
       "      <th>Timestamp</th>\n",
       "    </tr>\n",
       "  </thead>\n",
       "  <tbody>\n",
       "    <tr>\n",
       "      <th>0</th>\n",
       "      <td>1200.0</td>\n",
       "      <td>295.0</td>\n",
       "      <td>2025-03-16T14:05:00</td>\n",
       "    </tr>\n",
       "    <tr>\n",
       "      <th>1</th>\n",
       "      <td>1250.0</td>\n",
       "      <td>310.0</td>\n",
       "      <td>2025-03-16T14:10:00</td>\n",
       "    </tr>\n",
       "    <tr>\n",
       "      <th>2</th>\n",
       "      <td>1350.0</td>\n",
       "      <td>320.0</td>\n",
       "      <td>2025-03-16T14:15:00</td>\n",
       "    </tr>\n",
       "    <tr>\n",
       "      <th>3</th>\n",
       "      <td>1400.0</td>\n",
       "      <td>330.0</td>\n",
       "      <td>2025-03-16T14:20:00</td>\n",
       "    </tr>\n",
       "    <tr>\n",
       "      <th>4</th>\n",
       "      <td>1450.0</td>\n",
       "      <td>340.0</td>\n",
       "      <td>2025-03-16T14:25:00</td>\n",
       "    </tr>\n",
       "    <tr>\n",
       "      <th>5</th>\n",
       "      <td>1500.0</td>\n",
       "      <td>350.0</td>\n",
       "      <td>2025-03-16T14:30:00</td>\n",
       "    </tr>\n",
       "  </tbody>\n",
       "</table>\n",
       "</div>"
      ],
      "text/plain": [
       "   Intensity (counts)  Temperature (°C)            Timestamp\n",
       "0              1200.0             295.0  2025-03-16T14:05:00\n",
       "1              1250.0             310.0  2025-03-16T14:10:00\n",
       "2              1350.0             320.0  2025-03-16T14:15:00\n",
       "3              1400.0             330.0  2025-03-16T14:20:00\n",
       "4              1450.0             340.0  2025-03-16T14:25:00\n",
       "5              1500.0             350.0  2025-03-16T14:30:00"
      ]
     },
     "execution_count": 74,
     "metadata": {},
     "output_type": "execute_result"
    }
   ],
   "source": [
    "make_dataframe('beamline_experiment.h5')"
   ]
  },
  {
   "cell_type": "code",
   "execution_count": 75,
   "metadata": {},
   "outputs": [
    {
     "data": {
      "text/html": [
       "<div>\n",
       "<style scoped>\n",
       "    .dataframe tbody tr th:only-of-type {\n",
       "        vertical-align: middle;\n",
       "    }\n",
       "\n",
       "    .dataframe tbody tr th {\n",
       "        vertical-align: top;\n",
       "    }\n",
       "\n",
       "    .dataframe thead th {\n",
       "        text-align: right;\n",
       "    }\n",
       "</style>\n",
       "<table border=\"1\" class=\"dataframe\">\n",
       "  <thead>\n",
       "    <tr style=\"text-align: right;\">\n",
       "      <th></th>\n",
       "      <th>Intensity (counts)</th>\n",
       "      <th>Temperature (°C)</th>\n",
       "      <th>Timestamp</th>\n",
       "    </tr>\n",
       "  </thead>\n",
       "  <tbody>\n",
       "    <tr>\n",
       "      <th>0</th>\n",
       "      <td>1200.0</td>\n",
       "      <td>295.0</td>\n",
       "      <td>2025-03-16T14:05:00</td>\n",
       "    </tr>\n",
       "  </tbody>\n",
       "</table>\n",
       "</div>"
      ],
      "text/plain": [
       "   Intensity (counts)  Temperature (°C)            Timestamp\n",
       "0              1200.0             295.0  2025-03-16T14:05:00"
      ]
     },
     "execution_count": 75,
     "metadata": {},
     "output_type": "execute_result"
    }
   ],
   "source": [
    "filter_hdf5_data('beamline_experiment.h5', 200, 300)"
   ]
  },
  {
   "cell_type": "code",
   "execution_count": 59,
   "metadata": {},
   "outputs": [
    {
     "data": {
      "text/html": [
       "<div>\n",
       "<style scoped>\n",
       "    .dataframe tbody tr th:only-of-type {\n",
       "        vertical-align: middle;\n",
       "    }\n",
       "\n",
       "    .dataframe tbody tr th {\n",
       "        vertical-align: top;\n",
       "    }\n",
       "\n",
       "    .dataframe thead th {\n",
       "        text-align: right;\n",
       "    }\n",
       "</style>\n",
       "<table border=\"1\" class=\"dataframe\">\n",
       "  <thead>\n",
       "    <tr style=\"text-align: right;\">\n",
       "      <th></th>\n",
       "      <th>Intensity (counts)</th>\n",
       "      <th>Temperature (°C)</th>\n",
       "    </tr>\n",
       "  </thead>\n",
       "  <tbody>\n",
       "    <tr>\n",
       "      <th>mean</th>\n",
       "      <td>1358.333374</td>\n",
       "      <td>324.166656</td>\n",
       "    </tr>\n",
       "    <tr>\n",
       "      <th>std</th>\n",
       "      <td>115.830338</td>\n",
       "      <td>20.103897</td>\n",
       "    </tr>\n",
       "    <tr>\n",
       "      <th>min</th>\n",
       "      <td>1200.000000</td>\n",
       "      <td>295.000000</td>\n",
       "    </tr>\n",
       "    <tr>\n",
       "      <th>25%</th>\n",
       "      <td>1275.000000</td>\n",
       "      <td>312.500000</td>\n",
       "    </tr>\n",
       "    <tr>\n",
       "      <th>50%</th>\n",
       "      <td>1375.000000</td>\n",
       "      <td>325.000000</td>\n",
       "    </tr>\n",
       "    <tr>\n",
       "      <th>75%</th>\n",
       "      <td>1437.500000</td>\n",
       "      <td>337.500000</td>\n",
       "    </tr>\n",
       "    <tr>\n",
       "      <th>max</th>\n",
       "      <td>1500.000000</td>\n",
       "      <td>350.000000</td>\n",
       "    </tr>\n",
       "  </tbody>\n",
       "</table>\n",
       "</div>"
      ],
      "text/plain": [
       "      Intensity (counts)  Temperature (°C)\n",
       "mean         1358.333374        324.166656\n",
       "std           115.830338         20.103897\n",
       "min          1200.000000        295.000000\n",
       "25%          1275.000000        312.500000\n",
       "50%          1375.000000        325.000000\n",
       "75%          1437.500000        337.500000\n",
       "max          1500.000000        350.000000"
      ]
     },
     "execution_count": 59,
     "metadata": {},
     "output_type": "execute_result"
    }
   ],
   "source": [
    "stats_hdf5_data('beamline_experiment.h5')"
   ]
  },
  {
   "cell_type": "code",
   "execution_count": 64,
   "metadata": {},
   "outputs": [
    {
     "data": {
      "text/html": [
       "<div>\n",
       "<style scoped>\n",
       "    .dataframe tbody tr th:only-of-type {\n",
       "        vertical-align: middle;\n",
       "    }\n",
       "\n",
       "    .dataframe tbody tr th {\n",
       "        vertical-align: top;\n",
       "    }\n",
       "\n",
       "    .dataframe thead th {\n",
       "        text-align: right;\n",
       "    }\n",
       "</style>\n",
       "<table border=\"1\" class=\"dataframe\">\n",
       "  <thead>\n",
       "    <tr style=\"text-align: right;\">\n",
       "      <th></th>\n",
       "      <th>Intensity (counts)</th>\n",
       "      <th>Temperature (°C)</th>\n",
       "      <th>Timestamp</th>\n",
       "    </tr>\n",
       "  </thead>\n",
       "  <tbody>\n",
       "  </tbody>\n",
       "</table>\n",
       "</div>"
      ],
      "text/plain": [
       "Empty DataFrame\n",
       "Columns: [Intensity (counts), Temperature (°C), Timestamp]\n",
       "Index: []"
      ]
     },
     "execution_count": 64,
     "metadata": {},
     "output_type": "execute_result"
    }
   ],
   "source": [
    "get_outliers('beamline_experiment.h5', 3)"
   ]
  },
  {
   "cell_type": "code",
   "execution_count": null,
   "metadata": {},
   "outputs": [],
   "source": []
  }
 ],
 "metadata": {
  "kernelspec": {
   "display_name": "practice",
   "language": "python",
   "name": "python3"
  },
  "language_info": {
   "codemirror_mode": {
    "name": "ipython",
    "version": 3
   },
   "file_extension": ".py",
   "mimetype": "text/x-python",
   "name": "python",
   "nbconvert_exporter": "python",
   "pygments_lexer": "ipython3",
   "version": "3.10.16"
  }
 },
 "nbformat": 4,
 "nbformat_minor": 2
}
