{
 "cells": [
  {
   "cell_type": "code",
   "execution_count": 8,
   "metadata": {},
   "outputs": [],
   "source": [
    "import pandas as pd\n",
    "import numpy as np\n",
    "import matplotlib.pyplot as plt\n",
    "import seaborn as sns\n",
    "import h5py\n"
   ]
  },
  {
   "cell_type": "code",
   "execution_count": null,
   "metadata": {},
   "outputs": [],
   "source": [
    "path = './data/2025-03-25_13-37-56/HC-5059/run6_Pup2/_/'"
   ]
  },
  {
   "cell_type": "code",
   "execution_count": null,
   "metadata": {},
   "outputs": [
    {
     "name": "stdout",
     "output_type": "stream",
     "text": [
      "<KeysViewHDF5 ['entry_0000: run6 - run6_Pup2']>\n",
      "<KeysViewHDF5 ['end_time', 'folder_path', 'instrument', 'measurement', 'proposal', 'sample', 'start_time']>\n"
     ]
    }
   ],
   "source": [
    "with h5py.File(path+'hc5059-run6-run6_Pup2.h5', 'r') as hdf:\n",
    "    print(hdf.keys())\n",
    "    for key in hdf.keys():\n",
    "        print(hdf[key].keys())"
   ]
  },
  {
   "cell_type": "code",
   "execution_count": 14,
   "metadata": {},
   "outputs": [],
   "source": [
    "def make_dataframe(file, save_as_csv=False, path_to_save=None):\n",
    "    with h5py.File(file, 'r') as hdf:\n",
    "        df = pd.DataFrame()\n",
    "        for key in hdf.keys():\n",
    "            if 'measurement' in key.lower():\n",
    "                measurements = hdf[key]\n",
    "                for key in measurements.keys():\n",
    "                    if 'timestamp' in key.lower():\n",
    "                        column = [t.decode('utf-8') for t in measurements[key][:]]\n",
    "                    else:\n",
    "                        column = measurements[key][:]\n",
    "                    df[key] = column\n",
    "    if save_as_csv:\n",
    "        df.to_csv(path_to_save, index=False)\n",
    "    return df"
   ]
  },
  {
   "cell_type": "code",
   "execution_count": 16,
   "metadata": {},
   "outputs": [],
   "source": [
    "df = make_dataframe(path+'hc5059-run6-run6_Pup2.h5')"
   ]
  },
  {
   "cell_type": "code",
   "execution_count": 18,
   "metadata": {},
   "outputs": [],
   "source": [
    "def explore_hdf5_file(filepath):\n",
    "    \"\"\"\n",
    "    Open and explore the structure of an HDF5 file.\n",
    "\n",
    "    Parameters:\n",
    "        filepath (str): Path to the HDF5 file.\n",
    "    \"\"\"\n",
    "    def print_structure(name, obj):\n",
    "        if isinstance(obj, h5py.Group):\n",
    "            print(f\"Group: {name}\")\n",
    "        elif isinstance(obj, h5py.Dataset):\n",
    "            print(f\"Dataset: {name}, Shape: {obj.shape}, Dtype: {obj.dtype}\")\n",
    "\n",
    "    with h5py.File(filepath, 'r') as f:\n",
    "        print(f\"\\nContents of HDF5 file: {filepath}\")\n",
    "        f.visititems(print_structure)"
   ]
  },
  {
   "cell_type": "code",
   "execution_count": 19,
   "metadata": {},
   "outputs": [
    {
     "name": "stdout",
     "output_type": "stream",
     "text": [
      "\n",
      "Contents of HDF5 file: ./data/2025-03-25_13-37-56/HC-5059/run6_Pup2/_/hc5059-run6-run6_Pup2.h5\n",
      "Group: entry_0000: run6 - run6_Pup2\n",
      "Dataset: entry_0000: run6 - run6_Pup2/end_time, Shape: (), Dtype: |S26\n",
      "Dataset: entry_0000: run6 - run6_Pup2/folder_path, Shape: (), Dtype: |S44\n",
      "Group: entry_0000: run6 - run6_Pup2/instrument\n",
      "Dataset: entry_0000: run6 - run6_Pup2/instrument/name, Shape: (), Dtype: |S8\n",
      "Group: entry_0000: run6 - run6_Pup2/instrument/source\n",
      "Dataset: entry_0000: run6 - run6_Pup2/instrument/source/current, Shape: (), Dtype: |S5\n",
      "Dataset: entry_0000: run6 - run6_Pup2/instrument/source/mode, Shape: (), Dtype: |S5\n",
      "Group: entry_0000: run6 - run6_Pup2/measurement\n",
      "Dataset: entry_0000: run6 - run6_Pup2/proposal, Shape: (), Dtype: |S6\n",
      "Group: entry_0000: run6 - run6_Pup2/sample\n",
      "Dataset: entry_0000: run6 - run6_Pup2/sample/description, Shape: (), Dtype: |S5\n",
      "Dataset: entry_0000: run6 - run6_Pup2/sample/name, Shape: (), Dtype: |S4\n",
      "Dataset: entry_0000: run6 - run6_Pup2/start_time, Shape: (), Dtype: |S26\n"
     ]
    }
   ],
   "source": [
    "explore_hdf5_file(path+'hc5059-run6-run6_Pup2.h5')"
   ]
  },
  {
   "cell_type": "code",
   "execution_count": 22,
   "metadata": {},
   "outputs": [],
   "source": [
    "def explore_and_read_hdf5(filepath, max_elements=10):\n",
    "    \"\"\"\n",
    "    Explore HDF5 file structure and read small datasets.\n",
    "\n",
    "    Parameters:\n",
    "        filepath (str): Path to the HDF5 file.\n",
    "        max_elements (int): Maximum number of elements to print from a dataset.\n",
    "    \"\"\"\n",
    "    def print_structure_and_data(name, obj):\n",
    "        if isinstance(obj, h5py.Group):\n",
    "            print(f\"Group: {name}\")\n",
    "        elif isinstance(obj, h5py.Dataset):\n",
    "            print(f\"Dataset: {name}, Shape: {obj.shape}, Dtype: {obj.dtype}\")\n",
    "            try:\n",
    "                # Only print if dataset is scalar or small\n",
    "                if obj.shape == () or (len(obj.shape) == 1 and obj.shape[0] <= max_elements):\n",
    "                    print(f\"  Value: {obj[()].decode('utf-8')}\")\n",
    "            except Exception as e:\n",
    "                print(f\"  Could not read dataset: {e}\")\n",
    "\n",
    "    with h5py.File(filepath, 'r') as f:\n",
    "        print(f\"\\nContents of HDF5 file: {filepath}\")\n",
    "        f.visititems(print_structure_and_data)\n"
   ]
  },
  {
   "cell_type": "code",
   "execution_count": 23,
   "metadata": {},
   "outputs": [
    {
     "name": "stdout",
     "output_type": "stream",
     "text": [
      "\n",
      "Contents of HDF5 file: ./data/2025-03-25_13-37-56/HC-5059/run6_Pup2/_/hc5059-run6-run6_Pup2.h5\n",
      "Group: entry_0000: run6 - run6_Pup2\n",
      "Dataset: entry_0000: run6 - run6_Pup2/end_time, Shape: (), Dtype: |S26\n",
      "  Value: 2023-02-26T17:28:38.753767\n",
      "Dataset: entry_0000: run6 - run6_Pup2/folder_path, Shape: (), Dtype: |S44\n",
      "  Value: /data/visitor/hc5059/id06-lvp/run6/run6_Pup2\n",
      "Group: entry_0000: run6 - run6_Pup2/instrument\n",
      "Dataset: entry_0000: run6 - run6_Pup2/instrument/name, Shape: (), Dtype: |S8\n",
      "  Value: id06-lvp\n",
      "Group: entry_0000: run6 - run6_Pup2/instrument/source\n",
      "Dataset: entry_0000: run6 - run6_Pup2/instrument/source/current, Shape: (), Dtype: |S5\n",
      "  Value: ERROR\n",
      "Dataset: entry_0000: run6 - run6_Pup2/instrument/source/mode, Shape: (), Dtype: |S5\n",
      "  Value: ERROR\n",
      "Group: entry_0000: run6 - run6_Pup2/measurement\n",
      "Dataset: entry_0000: run6 - run6_Pup2/proposal, Shape: (), Dtype: |S6\n",
      "  Value: hc5059\n",
      "Group: entry_0000: run6 - run6_Pup2/sample\n",
      "Dataset: entry_0000: run6 - run6_Pup2/sample/description, Shape: (), Dtype: |S5\n",
      "  Value: nasi3\n",
      "Dataset: entry_0000: run6 - run6_Pup2/sample/name, Shape: (), Dtype: |S4\n",
      "  Value: run6\n",
      "Dataset: entry_0000: run6 - run6_Pup2/start_time, Shape: (), Dtype: |S26\n",
      "  Value: 2023-02-26T15:42:30.109783\n"
     ]
    }
   ],
   "source": [
    "explore_and_read_hdf5(path+'hc5059-run6-run6_Pup2.h5')"
   ]
  },
  {
   "cell_type": "code",
   "execution_count": 39,
   "metadata": {},
   "outputs": [],
   "source": [
    "df1 = pd.DataFrame({\n",
    "    'Sensor_1': np.random.randn(100),\n",
    "    'Sensor_2': np.random.randint(0, 100, size=100),\n",
    "    'Date': pd.date_range('20230101', periods=100)\n",
    "})"
   ]
  },
  {
   "cell_type": "code",
   "execution_count": 40,
   "metadata": {},
   "outputs": [],
   "source": [
    "df1.to_hdf('example_pandas_to_hdf.h5', key='sensor_readings', mode='w')"
   ]
  },
  {
   "cell_type": "code",
   "execution_count": 41,
   "metadata": {},
   "outputs": [],
   "source": [
    "data = pd.read_hdf('example_pandas_to_hdf.h5')"
   ]
  },
  {
   "cell_type": "code",
   "execution_count": 42,
   "metadata": {},
   "outputs": [
    {
     "data": {
      "text/html": [
       "<div>\n",
       "<style scoped>\n",
       "    .dataframe tbody tr th:only-of-type {\n",
       "        vertical-align: middle;\n",
       "    }\n",
       "\n",
       "    .dataframe tbody tr th {\n",
       "        vertical-align: top;\n",
       "    }\n",
       "\n",
       "    .dataframe thead th {\n",
       "        text-align: right;\n",
       "    }\n",
       "</style>\n",
       "<table border=\"1\" class=\"dataframe\">\n",
       "  <thead>\n",
       "    <tr style=\"text-align: right;\">\n",
       "      <th></th>\n",
       "      <th>Sensor_1</th>\n",
       "      <th>Sensor_2</th>\n",
       "      <th>Date</th>\n",
       "    </tr>\n",
       "  </thead>\n",
       "  <tbody>\n",
       "    <tr>\n",
       "      <th>0</th>\n",
       "      <td>-0.414846</td>\n",
       "      <td>77</td>\n",
       "      <td>2023-01-01</td>\n",
       "    </tr>\n",
       "    <tr>\n",
       "      <th>1</th>\n",
       "      <td>1.148940</td>\n",
       "      <td>69</td>\n",
       "      <td>2023-01-02</td>\n",
       "    </tr>\n",
       "    <tr>\n",
       "      <th>2</th>\n",
       "      <td>0.101305</td>\n",
       "      <td>11</td>\n",
       "      <td>2023-01-03</td>\n",
       "    </tr>\n",
       "    <tr>\n",
       "      <th>3</th>\n",
       "      <td>-0.586764</td>\n",
       "      <td>33</td>\n",
       "      <td>2023-01-04</td>\n",
       "    </tr>\n",
       "    <tr>\n",
       "      <th>4</th>\n",
       "      <td>-0.680189</td>\n",
       "      <td>69</td>\n",
       "      <td>2023-01-05</td>\n",
       "    </tr>\n",
       "    <tr>\n",
       "      <th>...</th>\n",
       "      <td>...</td>\n",
       "      <td>...</td>\n",
       "      <td>...</td>\n",
       "    </tr>\n",
       "    <tr>\n",
       "      <th>95</th>\n",
       "      <td>-0.455919</td>\n",
       "      <td>5</td>\n",
       "      <td>2023-04-06</td>\n",
       "    </tr>\n",
       "    <tr>\n",
       "      <th>96</th>\n",
       "      <td>0.642878</td>\n",
       "      <td>27</td>\n",
       "      <td>2023-04-07</td>\n",
       "    </tr>\n",
       "    <tr>\n",
       "      <th>97</th>\n",
       "      <td>0.419097</td>\n",
       "      <td>3</td>\n",
       "      <td>2023-04-08</td>\n",
       "    </tr>\n",
       "    <tr>\n",
       "      <th>98</th>\n",
       "      <td>1.269762</td>\n",
       "      <td>15</td>\n",
       "      <td>2023-04-09</td>\n",
       "    </tr>\n",
       "    <tr>\n",
       "      <th>99</th>\n",
       "      <td>-0.382099</td>\n",
       "      <td>7</td>\n",
       "      <td>2023-04-10</td>\n",
       "    </tr>\n",
       "  </tbody>\n",
       "</table>\n",
       "<p>100 rows × 3 columns</p>\n",
       "</div>"
      ],
      "text/plain": [
       "    Sensor_1  Sensor_2       Date\n",
       "0  -0.414846        77 2023-01-01\n",
       "1   1.148940        69 2023-01-02\n",
       "2   0.101305        11 2023-01-03\n",
       "3  -0.586764        33 2023-01-04\n",
       "4  -0.680189        69 2023-01-05\n",
       "..       ...       ...        ...\n",
       "95 -0.455919         5 2023-04-06\n",
       "96  0.642878        27 2023-04-07\n",
       "97  0.419097         3 2023-04-08\n",
       "98  1.269762        15 2023-04-09\n",
       "99 -0.382099         7 2023-04-10\n",
       "\n",
       "[100 rows x 3 columns]"
      ]
     },
     "execution_count": 42,
     "metadata": {},
     "output_type": "execute_result"
    }
   ],
   "source": [
    "data"
   ]
  },
  {
   "cell_type": "code",
   "execution_count": 43,
   "metadata": {},
   "outputs": [],
   "source": [
    "df2 = pd.DataFrame({\n",
    "    'Pressure': range(1,12)\n",
    "})"
   ]
  },
  {
   "cell_type": "code",
   "execution_count": 45,
   "metadata": {},
   "outputs": [],
   "source": [
    "with pd.HDFStore('multi_data.h5', mode='w') as store:\n",
    "    store.put('df1', df1)\n",
    "    store.put('df2', df2)"
   ]
  },
  {
   "cell_type": "code",
   "execution_count": 48,
   "metadata": {},
   "outputs": [
    {
     "name": "stdout",
     "output_type": "stream",
     "text": [
      "['/df1', '/df2']\n"
     ]
    }
   ],
   "source": [
    "with pd.HDFStore('multi_data.h5', mode='r') as store:\n",
    "    print(store.keys())"
   ]
  },
  {
   "cell_type": "code",
   "execution_count": 51,
   "metadata": {},
   "outputs": [],
   "source": [
    "data = pd.read_hdf('multi_data.h5',key='df1')"
   ]
  },
  {
   "cell_type": "code",
   "execution_count": 52,
   "metadata": {},
   "outputs": [
    {
     "data": {
      "text/html": [
       "<div>\n",
       "<style scoped>\n",
       "    .dataframe tbody tr th:only-of-type {\n",
       "        vertical-align: middle;\n",
       "    }\n",
       "\n",
       "    .dataframe tbody tr th {\n",
       "        vertical-align: top;\n",
       "    }\n",
       "\n",
       "    .dataframe thead th {\n",
       "        text-align: right;\n",
       "    }\n",
       "</style>\n",
       "<table border=\"1\" class=\"dataframe\">\n",
       "  <thead>\n",
       "    <tr style=\"text-align: right;\">\n",
       "      <th></th>\n",
       "      <th>Sensor_1</th>\n",
       "      <th>Sensor_2</th>\n",
       "      <th>Date</th>\n",
       "    </tr>\n",
       "  </thead>\n",
       "  <tbody>\n",
       "    <tr>\n",
       "      <th>0</th>\n",
       "      <td>-0.414846</td>\n",
       "      <td>77</td>\n",
       "      <td>2023-01-01</td>\n",
       "    </tr>\n",
       "    <tr>\n",
       "      <th>1</th>\n",
       "      <td>1.148940</td>\n",
       "      <td>69</td>\n",
       "      <td>2023-01-02</td>\n",
       "    </tr>\n",
       "    <tr>\n",
       "      <th>2</th>\n",
       "      <td>0.101305</td>\n",
       "      <td>11</td>\n",
       "      <td>2023-01-03</td>\n",
       "    </tr>\n",
       "    <tr>\n",
       "      <th>3</th>\n",
       "      <td>-0.586764</td>\n",
       "      <td>33</td>\n",
       "      <td>2023-01-04</td>\n",
       "    </tr>\n",
       "    <tr>\n",
       "      <th>4</th>\n",
       "      <td>-0.680189</td>\n",
       "      <td>69</td>\n",
       "      <td>2023-01-05</td>\n",
       "    </tr>\n",
       "    <tr>\n",
       "      <th>...</th>\n",
       "      <td>...</td>\n",
       "      <td>...</td>\n",
       "      <td>...</td>\n",
       "    </tr>\n",
       "    <tr>\n",
       "      <th>95</th>\n",
       "      <td>-0.455919</td>\n",
       "      <td>5</td>\n",
       "      <td>2023-04-06</td>\n",
       "    </tr>\n",
       "    <tr>\n",
       "      <th>96</th>\n",
       "      <td>0.642878</td>\n",
       "      <td>27</td>\n",
       "      <td>2023-04-07</td>\n",
       "    </tr>\n",
       "    <tr>\n",
       "      <th>97</th>\n",
       "      <td>0.419097</td>\n",
       "      <td>3</td>\n",
       "      <td>2023-04-08</td>\n",
       "    </tr>\n",
       "    <tr>\n",
       "      <th>98</th>\n",
       "      <td>1.269762</td>\n",
       "      <td>15</td>\n",
       "      <td>2023-04-09</td>\n",
       "    </tr>\n",
       "    <tr>\n",
       "      <th>99</th>\n",
       "      <td>-0.382099</td>\n",
       "      <td>7</td>\n",
       "      <td>2023-04-10</td>\n",
       "    </tr>\n",
       "  </tbody>\n",
       "</table>\n",
       "<p>100 rows × 3 columns</p>\n",
       "</div>"
      ],
      "text/plain": [
       "    Sensor_1  Sensor_2       Date\n",
       "0  -0.414846        77 2023-01-01\n",
       "1   1.148940        69 2023-01-02\n",
       "2   0.101305        11 2023-01-03\n",
       "3  -0.586764        33 2023-01-04\n",
       "4  -0.680189        69 2023-01-05\n",
       "..       ...       ...        ...\n",
       "95 -0.455919         5 2023-04-06\n",
       "96  0.642878        27 2023-04-07\n",
       "97  0.419097         3 2023-04-08\n",
       "98  1.269762        15 2023-04-09\n",
       "99 -0.382099         7 2023-04-10\n",
       "\n",
       "[100 rows x 3 columns]"
      ]
     },
     "execution_count": 52,
     "metadata": {},
     "output_type": "execute_result"
    }
   ],
   "source": [
    "data"
   ]
  },
  {
   "cell_type": "code",
   "execution_count": 58,
   "metadata": {},
   "outputs": [],
   "source": [
    "df1.to_hdf('data_query.h5', key='sensor_readings', format='table', mode='w', data_columns=True)"
   ]
  },
  {
   "cell_type": "code",
   "execution_count": 59,
   "metadata": {},
   "outputs": [
    {
     "name": "stdout",
     "output_type": "stream",
     "text": [
      "['/sensor_readings']\n"
     ]
    }
   ],
   "source": [
    "with pd.HDFStore('data_query.h5', mode='r') as store:\n",
    "    print(store.keys())"
   ]
  },
  {
   "cell_type": "code",
   "execution_count": 60,
   "metadata": {},
   "outputs": [],
   "source": [
    "result = pd.read_hdf('data_query.h5', key='/sensor_readings', where='Sensor_2 > 25')"
   ]
  },
  {
   "cell_type": "code",
   "execution_count": 61,
   "metadata": {},
   "outputs": [
    {
     "data": {
      "text/html": [
       "<div>\n",
       "<style scoped>\n",
       "    .dataframe tbody tr th:only-of-type {\n",
       "        vertical-align: middle;\n",
       "    }\n",
       "\n",
       "    .dataframe tbody tr th {\n",
       "        vertical-align: top;\n",
       "    }\n",
       "\n",
       "    .dataframe thead th {\n",
       "        text-align: right;\n",
       "    }\n",
       "</style>\n",
       "<table border=\"1\" class=\"dataframe\">\n",
       "  <thead>\n",
       "    <tr style=\"text-align: right;\">\n",
       "      <th></th>\n",
       "      <th>Sensor_1</th>\n",
       "      <th>Sensor_2</th>\n",
       "      <th>Date</th>\n",
       "    </tr>\n",
       "  </thead>\n",
       "  <tbody>\n",
       "    <tr>\n",
       "      <th>0</th>\n",
       "      <td>-0.414846</td>\n",
       "      <td>77</td>\n",
       "      <td>2023-01-01</td>\n",
       "    </tr>\n",
       "    <tr>\n",
       "      <th>1</th>\n",
       "      <td>1.148940</td>\n",
       "      <td>69</td>\n",
       "      <td>2023-01-02</td>\n",
       "    </tr>\n",
       "    <tr>\n",
       "      <th>3</th>\n",
       "      <td>-0.586764</td>\n",
       "      <td>33</td>\n",
       "      <td>2023-01-04</td>\n",
       "    </tr>\n",
       "    <tr>\n",
       "      <th>4</th>\n",
       "      <td>-0.680189</td>\n",
       "      <td>69</td>\n",
       "      <td>2023-01-05</td>\n",
       "    </tr>\n",
       "    <tr>\n",
       "      <th>6</th>\n",
       "      <td>-0.225088</td>\n",
       "      <td>64</td>\n",
       "      <td>2023-01-07</td>\n",
       "    </tr>\n",
       "    <tr>\n",
       "      <th>...</th>\n",
       "      <td>...</td>\n",
       "      <td>...</td>\n",
       "      <td>...</td>\n",
       "    </tr>\n",
       "    <tr>\n",
       "      <th>89</th>\n",
       "      <td>0.098666</td>\n",
       "      <td>93</td>\n",
       "      <td>2023-03-31</td>\n",
       "    </tr>\n",
       "    <tr>\n",
       "      <th>92</th>\n",
       "      <td>-0.444442</td>\n",
       "      <td>66</td>\n",
       "      <td>2023-04-03</td>\n",
       "    </tr>\n",
       "    <tr>\n",
       "      <th>93</th>\n",
       "      <td>-0.659863</td>\n",
       "      <td>78</td>\n",
       "      <td>2023-04-04</td>\n",
       "    </tr>\n",
       "    <tr>\n",
       "      <th>94</th>\n",
       "      <td>-0.738505</td>\n",
       "      <td>49</td>\n",
       "      <td>2023-04-05</td>\n",
       "    </tr>\n",
       "    <tr>\n",
       "      <th>96</th>\n",
       "      <td>0.642878</td>\n",
       "      <td>27</td>\n",
       "      <td>2023-04-07</td>\n",
       "    </tr>\n",
       "  </tbody>\n",
       "</table>\n",
       "<p>68 rows × 3 columns</p>\n",
       "</div>"
      ],
      "text/plain": [
       "    Sensor_1  Sensor_2       Date\n",
       "0  -0.414846        77 2023-01-01\n",
       "1   1.148940        69 2023-01-02\n",
       "3  -0.586764        33 2023-01-04\n",
       "4  -0.680189        69 2023-01-05\n",
       "6  -0.225088        64 2023-01-07\n",
       "..       ...       ...        ...\n",
       "89  0.098666        93 2023-03-31\n",
       "92 -0.444442        66 2023-04-03\n",
       "93 -0.659863        78 2023-04-04\n",
       "94 -0.738505        49 2023-04-05\n",
       "96  0.642878        27 2023-04-07\n",
       "\n",
       "[68 rows x 3 columns]"
      ]
     },
     "execution_count": 61,
     "metadata": {},
     "output_type": "execute_result"
    }
   ],
   "source": [
    "result"
   ]
  },
  {
   "cell_type": "code",
   "execution_count": null,
   "metadata": {},
   "outputs": [],
   "source": []
  }
 ],
 "metadata": {
  "kernelspec": {
   "display_name": "practice",
   "language": "python",
   "name": "python3"
  },
  "language_info": {
   "codemirror_mode": {
    "name": "ipython",
    "version": 3
   },
   "file_extension": ".py",
   "mimetype": "text/x-python",
   "name": "python",
   "nbconvert_exporter": "python",
   "pygments_lexer": "ipython3",
   "version": "3.10.16"
  }
 },
 "nbformat": 4,
 "nbformat_minor": 2
}
